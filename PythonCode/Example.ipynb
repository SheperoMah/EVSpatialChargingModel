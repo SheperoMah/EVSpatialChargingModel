{
 "cells": [
  {
   "cell_type": "code",
   "execution_count": 190,
   "metadata": {
    "collapsed": true
   },
   "outputs": [],
   "source": [
    "#!/Users/mahmoudshepero/anaconda3/bin/python3\n",
    "\n",
    "import python as SP\n",
    "from osgeo import ogr, osr\n",
    "import matplotlib.pyplot as plt\n",
    "import os\n",
    "import numpy as np\n",
    "import math\n",
    "import extractFiles as ex\n",
    "import cars as cc"
   ]
  },
  {
   "cell_type": "code",
   "execution_count": 1,
   "metadata": {},
   "outputs": [
    {
     "name": "stdout",
     "output_type": "stream",
     "text": [
      "Layer names: ['buildings-epsg3006']\n",
      "spatial reference system:  PROJCS[\"SWEREF99_TM\",GEOGCS[\"GCS_SWEREF99\",DATUM[\"SWEREF99\",SPHEROID[\"GRS_1980\",6378137,298.257222101]],PRIMEM[\"Greenwich\",0],UNIT[\"Degree\",0.017453292519943295]],PROJECTION[\"Transverse_Mercator\"],PARAMETER[\"latitude_of_origin\",0],PARAMETER[\"central_meridian\",15],PARAMETER[\"scale_factor\",0.9996],PARAMETER[\"false_easting\",500000],PARAMETER[\"false_northing\",0],UNIT[\"Meter\",1]]\n",
      "Layer Fields: ['DETALJTYP', 'ANDAMAL_1', 'ANDAMAL_1T', 'area']\n",
      "Field tags:  {130, 131, 132, 133, 135, 399, 799, 299, 301, 302, 304, 305, 306, 307, 308, 309, 310, 313, 314, 699, 316, 317, 318, 319, 320, 321, 322, 315, 199, 599, 240, 242, 499, 243, 246, 247, 249, 252, 253}\n",
      "Number of residential features:  5406\n",
      "Number of workplace features:  2697\n",
      "Number of other features:  1391\n"
     ]
    }
   ],
   "source": [
    "# load the buildings layer \"LänmaterietLayer\"\n",
    "InputFileLocation = r'../Data/NewFolder/buildings-epsg3006.shp' # location\n",
    "shapefile1 = InputFileLocation\n",
    "buildingDS1 = ogr.Open(shapefile1)\n",
    "buildingDS2 = ogr.Open(shapefile1)\n",
    "buildingDS3 = ogr.Open(shapefile1)\n",
    "\n",
    "\n",
    "# print the number of layers\n",
    "print(\"Layer names:\", SP.list_of_layers(buildingDS1))\n",
    "\n",
    "\n",
    "# load the first layer\n",
    "buildingsLayer = buildingDS1.GetLayer()\n",
    "\n",
    "# check that the spatial reference is a metric spatial reference\n",
    "print(\"spatial reference system: \",buildingsLayer.GetSpatialRef().ExportToWkt())\n",
    "\n",
    "# filter to remove buildings with area less than 10m2\n",
    "buildingsLayer.SetAttributeFilter(\"OGR_GEOM_WKT LIKE 'POLYGON%' AND OGR_GEOM_AREA > 10\")\n",
    "buildingsLayer.ResetReading() # reset counting of the filter\n",
    "\n",
    "# print the layer fields\n",
    "print(\"Layer Fields:\", SP.get_layer_fields(buildingsLayer))\n",
    "\n",
    "# print the tags from the interesting fieldDefn\n",
    "print(\"Field tags: \", SP.get_field_tags(buildingsLayer, \"ANDAMAL_1\"))\n",
    "\n",
    "\n",
    "## RESIDENTIAL LAYER\n",
    "# load the layer to residential\n",
    "ResbuildingsLayer = buildingDS1.GetLayer()\n",
    "# we are interested in the layer residential codes 133 and 135, 199\n",
    "ResbuildingsLayer.SetAttributeFilter( \"OGR_GEOM_WKT LIKE 'POLYGON%' AND OGR_GEOM_AREA > 10\"\n",
    "\"AND ANDAMAL_1 IN (133, 135, 199)\"\n",
    ")\n",
    "ResbuildingsLayer.ResetReading() # reset counting of the filter\n",
    "print(\"Number of residential features: \", ResbuildingsLayer.GetFeatureCount())\n",
    "\n",
    "\n",
    "## WORKPLACE LAYER\n",
    "# load the layer to workplace\n",
    "workplacesLayer = buildingDS2.GetLayer()\n",
    "# workplaces are 240:299, 302, 304, 307, 311, 319, 322, 499\n",
    "workplacesLayer.SetAttributeFilter( \"OGR_GEOM_WKT LIKE 'POLYGON%' AND OGR_GEOM_AREA > 10\"\n",
    "\"AND ANDAMAL_1 IN (240, 242, 243, 247, 248, 249, 252, 253, 299, \"\n",
    "\"302, 304, 307, 311, 319, 322, 499)\"\n",
    ")\n",
    "workplacesLayer.ResetReading() # reset counting of the filter\n",
    "print(\"Number of workplace features: \", workplacesLayer.GetFeatureCount())\n",
    "\n",
    "\n",
    "## OTHERS LAYER\n",
    "# load the layer to other\n",
    "otherLayer = buildingDS3.GetLayer()\n",
    "# Otherplaces (leisure and shopping) are 301, 309, 313, 316, 317, 320, 399, 799\n",
    "otherLayer.SetAttributeFilter( \"OGR_GEOM_WKT LIKE 'POLYGON%' AND OGR_GEOM_AREA > 10\"\n",
    "\"AND ANDAMAL_1 IN (301, 309, 313, 316, 317, 320, 399, 799)\"\n",
    ")\n",
    "otherLayer.ResetReading() # reset counting of the filter\n",
    "print(\"Number of other features: \", otherLayer.GetFeatureCount())\n",
    "\n",
    "\n",
    "# Save the layers\n",
    "SP.create_buffer_and_projectLayer(ResbuildingsLayer, 3006, 3006, \"residentialLayer\", bufferDist = 0)\n",
    "SP.create_buffer_and_projectLayer(workplacesLayer, 3006, 3006, \"workLayer\", bufferDist = 0)\n",
    "SP.create_buffer_and_projectLayer(otherLayer, 3006, 3006, \"otherLayer\", bufferDist = 0)\n",
    "\n",
    "\n"
   ]
  },
  {
   "cell_type": "code",
   "execution_count": 4,
   "metadata": {},
   "outputs": [
    {
     "name": "stdout",
     "output_type": "stream",
     "text": [
      "Field tags:  {'kindergarten', 'university', 'place_of_worship', 'shelter', 'car_rental', 'social_facility', 'parking', 'doctors', 'fast_food', 'theatre', 'recycling', 'social_centre', 'fountain', 'events_venue', 'restaurant', 'nursing_home', 'boat_storage', 'concert_hall', 'cafe', 'community_centre', 'vehicle_inspection', 'childcare', 'nightclub', 'animal_shelter', 'school', 'animal_training', 'waste_disposal', 'car_wash', 'toilets', 'monastery', 'clinic', 'fire_station', 'library', 'prison', 'parking_space', None, 'bar', 'hospital', 'bicycle_parking', 'motorcycle_parking', 'grave_yard', 'fuel'}\n",
      "Field tags:  {'public', 'kindergarten', 'university', 'apartments', 'industrial', 'hospital', 'train_station', 'detached', 'terrace', 'service', 'hut', 'house', 'office', 'warehouse', 'farm_auxiliary', 'garage', 'boathouse', 'shed', 'commercial', 'hotel', 'sport', 'school', 'church', 'farm', 'silo', 'retail', 'cabin', 'hangar', 'roof', 'residential', None, 'yes', 'garages', 'greenhouse', 'barn', 'preschool', 'stable', 'cathedral'}\n",
      "Number of parking features:  1718\n",
      "[[ 0.          0.99999988  0.        ]\n",
      " [ 0.          0.          0.99997136]\n",
      " [ 0.          0.          0.        ]\n",
      " ..., \n",
      " [ 0.99999916  0.          0.        ]\n",
      " [ 0.58727066  0.40751172  0.00521733]\n",
      " [ 0.          0.          0.        ]]\n"
     ]
    }
   ],
   "source": [
    "# Open Parking layer\n",
    "InputFileLocation = r'../Data/NewFolder/OSM-epsg3600.shp' # location\n",
    "shapefile2 = InputFileLocation\n",
    "parkingDB = ogr.Open(shapefile2)\n",
    "parkingLayer = parkingDB.GetLayer()\n",
    "\n",
    "# print the parking layer tags\n",
    "print(\"Amenity Field tags: \", SP.get_field_tags(parkingLayer, \"amenity\"))\n",
    "print(\"Building Field tags: \", SP.get_field_tags(parkingLayer, \"building\"))\n",
    "# Remove None features\n",
    "parkingLayer.SetAttributeFilter( \"NOT OGR_GEOM_WKT LIKE 'None%' AND OGR_GEOM_AREA > 10\"\n",
    "  \"AND (amenity IN ('parking', 'parking_space') OR building in ('garage', 'garages'))\")\n",
    "parkingLayer.ResetReading() # reset counting of the filter\n",
    "print(\"Number of parking features: \", parkingLayer.GetFeatureCount())\n",
    "\n",
    "\n",
    "# Open Buffered layer\n",
    "InputFileLocation = r'UppsalaParkingBuffer100meter3006.shp' # location\n",
    "shapefile3 = InputFileLocation\n",
    "parkingBuffer = ogr.Open(shapefile3)\n",
    "parkingBufferLayer = parkingBuffer.GetLayer()\n"
   ]
  },
  {
   "cell_type": "code",
   "execution_count": null,
   "metadata": {
    "collapsed": true
   },
   "outputs": [],
   "source": [
    "# Save the figure\n",
    "fig = plt.figure(figsize = (500,500))\n",
    "SP.plot_features(parkingLayer, \"parkingPlot.pdf\", '#555577')\n",
    "SP.plot_features(otherLayer, \"parkingPlot.pdf\", '#118877')\n",
    "SP.plot_features(workplacesLayer, \"parkingPlot.pdf\", '#992266')\n",
    "SP.plot_features(ResbuildingsLayer, \"parkingPlot.pdf\", '#228811')\n",
    "fig.savefig(\"parkingPlot1.pdf\")\n"
   ]
  },
  {
   "cell_type": "code",
   "execution_count": 46,
   "metadata": {},
   "outputs": [],
   "source": [
    "# Calculate intersection of the buffered parking lot layer with the buidlings layers\n",
    "areaPercentage = SP.get_percentage_of_area_types(parkingBufferLayer,\n",
    "                [ResbuildingsLayer, workplacesLayer, otherLayer])\n",
    "np.savetxt(\"areaPercentage.txt\", areaPercentage)\n",
    "\n",
    "# Get the areas of the parking lots\n",
    "parkingLotAreas = SP.get_features_areas(parkingLayer)"
   ]
  },
  {
   "cell_type": "code",
   "execution_count": 43,
   "metadata": {},
   "outputs": [],
   "source": [
    "# Get station IDs from the data set\n",
    "ID = SP.get_field_tags(parkingLayer, \"osm_way_id\")\n",
    "# Assert there are no duplicate IDs\n",
    "assert len(ID) == parkingLayer.GetFeatureCount(), \"there are duplicate IDs, create your own IDs for the stations\" \n"
   ]
  },
  {
   "cell_type": "code",
   "execution_count": 166,
   "metadata": {},
   "outputs": [],
   "source": [
    "stations = SP.create_charging_stations(ID, \n",
    "                               parkingLotAreas, \n",
    "                               areaPercentage,\n",
    "                               areaPerCar = 15,     \n",
    "                               charging_status = True, \n",
    "                               charging_power = 3.7)"
   ]
  },
  {
   "cell_type": "code",
   "execution_count": 167,
   "metadata": {},
   "outputs": [
    {
     "name": "stdout",
     "output_type": "stream",
     "text": [
      "number of home stations: 1350\n",
      "number of work stations: 979\n",
      "number of other stations: 733\n"
     ]
    }
   ],
   "source": [
    "# Number of state 0 stations\n",
    "print(\"number of home stations:\", \n",
    "      len(list(iter.filterfalse(lambda x: not(x.state ==0),stations))))\n",
    "# Number of state 1 stations\n",
    "print(\"number of work stations:\", \n",
    "      len(list(iter.filterfalse(lambda x: not(x.state ==1),stations))))\n",
    "# Number of state 2 stations\n",
    "print(\"number of other stations:\", \n",
    "      len(list(iter.filterfalse(lambda x: not(x.state ==2),stations))))\n"
   ]
  },
  {
   "cell_type": "code",
   "execution_count": 168,
   "metadata": {},
   "outputs": [
    {
     "name": "stdout",
     "output_type": "stream",
     "text": [
      "number of home stations: 36639\n",
      "number of work stations: 50552\n",
      "number of other stations: 15982\n"
     ]
    }
   ],
   "source": [
    "# Number of parking palaces for state 0 stations\n",
    "print(\"number of home stations:\", \n",
    "      sum(list(map(lambda x: x.maximumOccupancy, list(iter.filterfalse(lambda x: not(x.state ==0),stations))))))\n",
    "# Number of parking palaces for state 1 stations\n",
    "print(\"number of work stations:\", \n",
    "      sum(list(map(lambda x: x.maximumOccupancy, list(iter.filterfalse(lambda x: not(x.state ==1),stations))))))\n",
    "# Number of parking palaces for state 2 stations\n",
    "print(\"number of other stations:\", \n",
    "      sum(list(map(lambda x: x.maximumOccupancy, list(iter.filterfalse(lambda x: not(x.state ==2),stations))))))\n",
    "\n"
   ]
  },
  {
   "cell_type": "code",
   "execution_count": null,
   "metadata": {},
   "outputs": [],
   "source": [
    "# Create EVs\n",
    "numberCars = 100\n",
    "\n",
    "cars = [EV(currentLocation = 1, currentState = 0, batteryCharge = 0.0,\n",
    "                 batteryCapacity = 0.0, trips = 0) for i in range(numberCars)]\n"
   ]
  },
  {
   "cell_type": "code",
   "execution_count": 191,
   "metadata": {},
   "outputs": [],
   "source": [
    "# load transition Matrix\n",
    "weekdayChain = ex.readMatrixfiles(\"../TransitionMatrix/*weekday*.txt\")\n",
    "# define the tranistion Matrix\n",
    "weekday = cc.Markov(weekdayChain)"
   ]
  },
  {
   "cell_type": "code",
   "execution_count": null,
   "metadata": {
    "collapsed": true
   },
   "outputs": [],
   "source": [
    "# Setup the simulation Model\n",
    "simulationCase = cc.Simulation(stations,\n",
    "                            cars,\n",
    "                            weekday)\n",
    "\n",
    "# Estimate the electric load\n",
    "load = simulationCase.simulate_model(10080)"
   ]
  },
  {
   "cell_type": "code",
   "execution_count": null,
   "metadata": {
    "collapsed": true
   },
   "outputs": [],
   "source": []
  },
  {
   "cell_type": "code",
   "execution_count": null,
   "metadata": {
    "collapsed": true
   },
   "outputs": [],
   "source": []
  },
  {
   "cell_type": "code",
   "execution_count": 165,
   "metadata": {},
   "outputs": [
    {
     "data": {
      "text/plain": [
       "<module 'python' from '/Users/mahmoudshepero/Documents/PhD/Models/EVSpatialModelPython/PythonCode/python.py'>"
      ]
     },
     "execution_count": 165,
     "metadata": {},
     "output_type": "execute_result"
    }
   ],
   "source": [
    "import imp; imp.reload(SP)"
   ]
  }
 ],
 "metadata": {
  "kernelspec": {
   "display_name": "Python 3",
   "language": "python",
   "name": "python3"
  },
  "language_info": {
   "codemirror_mode": {
    "name": "ipython",
    "version": 3
   },
   "file_extension": ".py",
   "mimetype": "text/x-python",
   "name": "python",
   "nbconvert_exporter": "python",
   "pygments_lexer": "ipython3",
   "version": "3.6.3"
  }
 },
 "nbformat": 4,
 "nbformat_minor": 2
}
