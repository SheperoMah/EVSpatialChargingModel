{
 "cells": [
  {
   "cell_type": "code",
   "execution_count": 1,
   "metadata": {
    "collapsed": true
   },
   "outputs": [],
   "source": [
    "import datetime\n",
    "import python as SP\n",
    "from osgeo import ogr, osr\n",
    "import os\n",
    "import numpy as np\n",
    "import random as rnd\n",
    "import math\n",
    "import itertools as iter\n",
    "import extractFiles as ex\n",
    "import cars as cc1\n",
    "import matplotlib.pyplot as plt\n",
    "import extractDistances as exd"
   ]
  },
  {
   "cell_type": "code",
   "execution_count": 2,
   "metadata": {},
   "outputs": [
    {
     "name": "stdout",
     "output_type": "stream",
     "text": [
      "Layer names: ['buildings-epsg3006']\n",
      "spatial reference system:  PROJCS[\"SWEREF99_TM\",GEOGCS[\"GCS_SWEREF99\",DATUM[\"SWEREF99\",SPHEROID[\"GRS_1980\",6378137,298.257222101]],PRIMEM[\"Greenwich\",0],UNIT[\"Degree\",0.017453292519943295]],PROJECTION[\"Transverse_Mercator\"],PARAMETER[\"latitude_of_origin\",0],PARAMETER[\"central_meridian\",15],PARAMETER[\"scale_factor\",0.9996],PARAMETER[\"false_easting\",500000],PARAMETER[\"false_northing\",0],UNIT[\"Meter\",1]]\n",
      "Layer Fields: ['DETALJTYP', 'ANDAMAL_1', 'ANDAMAL_1T', 'area']\n",
      "Field tags:  {130, 131, 132, 133, 135, 399, 799, 299, 301, 302, 304, 305, 306, 307, 308, 309, 310, 313, 314, 699, 316, 317, 318, 319, 320, 321, 322, 315, 199, 599, 240, 242, 499, 243, 246, 247, 249, 252, 253}\n",
      "Number of residential features:  5406\n",
      "Number of workplace features:  2697\n",
      "Number of other features:  1391\n"
     ]
    }
   ],
   "source": [
    "# load the buildings layer \"LänmaterietLayer\"\n",
    "InputFileLocation = r'../Data/NewFolder/buildings-epsg3006.shp' # location\n",
    "shapefile1 = InputFileLocation\n",
    "buildingDS1 = ogr.Open(shapefile1)\n",
    "buildingDS2 = ogr.Open(shapefile1)\n",
    "buildingDS3 = ogr.Open(shapefile1)\n",
    "\n",
    "\n",
    "# print the number of layers\n",
    "print(\"Layer names:\", SP.list_of_layers(buildingDS1))\n",
    "\n",
    "\n",
    "# load the first layer\n",
    "buildingsLayer = buildingDS1.GetLayer()\n",
    "\n",
    "# check that the spatial reference is a metric spatial reference\n",
    "print(\"spatial reference system: \",buildingsLayer.GetSpatialRef().ExportToWkt())\n",
    "\n",
    "# filter to remove buildings with area less than 10m2\n",
    "buildingsLayer.SetAttributeFilter(\"OGR_GEOM_WKT LIKE 'POLYGON%' AND OGR_GEOM_AREA > 10\")\n",
    "buildingsLayer.ResetReading() # reset counting of the filter\n",
    "\n",
    "# print the layer fields\n",
    "print(\"Layer Fields:\", SP.get_layer_fields(buildingsLayer))\n",
    "\n",
    "# print the tags from the interesting fieldDefn\n",
    "print(\"Field tags: \", SP.get_field_tags(buildingsLayer, \"ANDAMAL_1\"))\n",
    "\n",
    "\n",
    "## RESIDENTIAL LAYER\n",
    "# load the layer to residential\n",
    "ResbuildingsLayer = buildingDS1.GetLayer()\n",
    "# we are interested in the layer residential codes 133 and 135, 199\n",
    "ResbuildingsLayer.SetAttributeFilter( \"OGR_GEOM_WKT LIKE 'POLYGON%' AND OGR_GEOM_AREA > 10\"\n",
    "\"AND ANDAMAL_1 IN (133, 135, 199)\"\n",
    ")\n",
    "ResbuildingsLayer.ResetReading() # reset counting of the filter\n",
    "print(\"Number of residential features: \", ResbuildingsLayer.GetFeatureCount())\n",
    "\n",
    "\n",
    "## WORKPLACE LAYER\n",
    "# load the layer to workplace\n",
    "workplacesLayer = buildingDS2.GetLayer()\n",
    "# workplaces are 240:299, 302, 304, 307, 311, 319, 322, 499\n",
    "workplacesLayer.SetAttributeFilter( \"OGR_GEOM_WKT LIKE 'POLYGON%' AND OGR_GEOM_AREA > 10\"\n",
    "\"AND ANDAMAL_1 IN (240, 242, 243, 247, 248, 249, 252, 253, 299, \"\n",
    "\"302, 304, 307, 311, 319, 322, 499)\"\n",
    ")\n",
    "workplacesLayer.ResetReading() # reset counting of the filter\n",
    "print(\"Number of workplace features: \", workplacesLayer.GetFeatureCount())\n",
    "\n",
    "\n",
    "## OTHERS LAYER\n",
    "# load the layer to other\n",
    "otherLayer = buildingDS3.GetLayer()\n",
    "# Otherplaces (leisure and shopping) are 301, 309, 313, 316, 317, 320, 399, 799\n",
    "otherLayer.SetAttributeFilter( \"OGR_GEOM_WKT LIKE 'POLYGON%' AND OGR_GEOM_AREA > 10\"\n",
    "\"AND ANDAMAL_1 IN (301, 309, 313, 316, 317, 320, 399, 799)\"\n",
    ")\n",
    "otherLayer.ResetReading() # reset counting of the filter\n",
    "print(\"Number of other features: \", otherLayer.GetFeatureCount())\n",
    "\n",
    "\n",
    "# Save the layers\n",
    "SP.create_buffer_and_projectLayer(ResbuildingsLayer, 3006, 3006, \"residentialLayer\", bufferDist = 0)\n",
    "SP.create_buffer_and_projectLayer(workplacesLayer, 3006, 3006, \"workLayer\", bufferDist = 0)\n",
    "SP.create_buffer_and_projectLayer(otherLayer, 3006, 3006, \"otherLayer\", bufferDist = 0)\n",
    "\n",
    "\n"
   ]
  },
  {
   "cell_type": "code",
   "execution_count": 3,
   "metadata": {},
   "outputs": [
    {
     "name": "stdout",
     "output_type": "stream",
     "text": [
      "Amenity Field tags:  {'bicycle_parking', 'cafe', 'car_wash', 'fire_station', 'animal_shelter', 'bar', 'monastery', 'community_centre', 'social_centre', 'events_venue', 'university', 'nursing_home', 'prison', 'kindergarten', 'shelter', 'clinic', 'school', 'vehicle_inspection', 'motorcycle_parking', 'childcare', 'doctors', 'car_rental', 'theatre', 'social_facility', 'parking_space', 'place_of_worship', 'library', 'restaurant', 'parking', 'grave_yard', 'toilets', 'fountain', None, 'boat_storage', 'concert_hall', 'fast_food', 'recycling', 'hospital', 'fuel', 'waste_disposal', 'nightclub', 'animal_training'}\n",
      "Building Field tags:  {'farm_auxiliary', 'industrial', 'commercial', 'garages', 'greenhouse', 'church', 'yes', 'public', 'barn', 'office', 'silo', 'boathouse', 'university', 'warehouse', 'hut', 'cathedral', 'shed', 'kindergarten', 'school', 'preschool', 'hotel', 'service', 'roof', 'train_station', 'sport', 'house', 'stable', 'hangar', 'terrace', 'residential', 'detached', 'cabin', None, 'apartments', 'hospital', 'garage', 'farm', 'retail'}\n",
      "Number of parking features:  1718\n"
     ]
    }
   ],
   "source": [
    "# Open Parking layer\n",
    "InputFileLocation = r'../Data/NewFolder/OSM-epsg3600.shp' # location\n",
    "shapefile2 = InputFileLocation\n",
    "parkingDB = ogr.Open(shapefile2)\n",
    "parkingLayer = parkingDB.GetLayer()\n",
    "\n",
    "# print the parking layer tags\n",
    "print(\"Amenity Field tags: \", SP.get_field_tags(parkingLayer, \"amenity\"))\n",
    "print(\"Building Field tags: \", SP.get_field_tags(parkingLayer, \"building\"))\n",
    "# Remove None features\n",
    "parkingLayer.SetAttributeFilter( \"NOT OGR_GEOM_WKT LIKE 'None%' AND OGR_GEOM_AREA > 10\"\n",
    "  \"AND (amenity IN ('parking', 'parking_space') OR building in ('garage', 'garages'))\")\n",
    "parkingLayer.ResetReading() # reset counting of the filter\n",
    "print(\"Number of parking features: \", parkingLayer.GetFeatureCount())\n",
    "\n",
    "\n",
    "# Open Buffered layer\n",
    "InputFileLocation = r'UppsalaParkingBuffer100meter3006.shp' # location\n",
    "shapefile3 = InputFileLocation\n",
    "parkingBuffer = ogr.Open(shapefile3)\n",
    "parkingBufferLayer = parkingBuffer.GetLayer()\n"
   ]
  },
  {
   "cell_type": "code",
   "execution_count": null,
   "metadata": {
    "collapsed": true
   },
   "outputs": [],
   "source": [
    "# Save figure\n",
    "fig = plt.figure(figsize = (50,50))\n",
    "SP.plot_features(parkingLayer, \"parkingPlot.pdf\", 'k')\n",
    "SP.plot_features(otherLayer, \"parkingPlot.pdf\", '#208778')\n",
    "SP.plot_features(workplacesLayer, \"parkingPlot.pdf\", '#992266')\n",
    "SP.plot_features(ResbuildingsLayer, \"parkingPlot.pdf\", '#1779b2')\n",
    "parking_patch = mpatches.Patch(color='k', label='Parking lots')\n",
    "work_patch = mpatches.Patch(color='#992266', label='Workplaces buildings')\n",
    "other_patch = mpatches.Patch(color='#208778', label='Other buildings')\n",
    "residential_patch = mpatches.Patch(color='#1779b2', label='Residential buildings')\n",
    "fntsize= 40\n",
    "plt.legend(handles= [parking_patch, work_patch, other_patch, residential_patch],\n",
    "            fontsize = fntsize)\n",
    "plt.xlim(641, 657)\n",
    "plt.ylim(6630, 6645)\n",
    "plt.xlabel(\"Easting (km)\", fontsize = fntsize+20)\n",
    "plt.ylabel(\"Northing (km)\", fontsize = fntsize+20)\n",
    "plt.xticks(fontsize = fntsize)\n",
    "plt.yticks(fontsize = fntsize)\n",
    "fig.savefig(\"Map.pdf\")"
   ]
  },
  {
   "cell_type": "code",
   "execution_count": 4,
   "metadata": {
    "collapsed": true
   },
   "outputs": [],
   "source": [
    "# Calculate intersection of the buffered parking lot layer with the buidlings layers\n",
    "areaPercentage = SP.get_percentage_of_area_types(parkingBufferLayer,\n",
    "                [ResbuildingsLayer, workplacesLayer, otherLayer])\n",
    "np.savetxt(\"areaPercentage.txt\", areaPercentage)\n",
    "\n",
    "# Get the areas of the parking lots\n",
    "parkingLotAreas = SP.get_features_areas(parkingLayer)\n",
    "np.savetxt(\"parkingLotAreas.txt\", parkingLotAreas)\n"
   ]
  },
  {
   "cell_type": "code",
   "execution_count": 5,
   "metadata": {
    "collapsed": true
   },
   "outputs": [],
   "source": [
    "# Get station IDs from the data set\n",
    "ID = SP.get_field_tags(parkingLayer, \"osm_way_id\")\n",
    "# Assert there are no duplicate IDs\n",
    "assert len(ID) == parkingLayer.GetFeatureCount(), \"there are duplicate IDs, create your own IDs for the stations\" \n",
    "\n",
    "\n",
    "with open('ID.txt','w') as file:\n",
    "    file.write(\"\\n\".join(list(ID)))\n"
   ]
  },
  {
   "cell_type": "code",
   "execution_count": 6,
   "metadata": {
    "collapsed": true
   },
   "outputs": [],
   "source": [
    "stations = SP.create_charging_stations(ID, \n",
    "                               parkingLotAreas, \n",
    "                               areaPercentage,\n",
    "                               areaPerCar = 36,     \n",
    "                               charging_status = True, \n",
    "                               charging_power = 3.7)"
   ]
  },
  {
   "cell_type": "code",
   "execution_count": 16,
   "metadata": {},
   "outputs": [
    {
     "name": "stdout",
     "output_type": "stream",
     "text": [
      "number of home stations: 1350\n",
      "number of work stations: 979\n",
      "number of other stations: 733\n"
     ]
    }
   ],
   "source": [
    "# Number of state 0 stations\n",
    "print(\"number of home stations:\",\n",
    "      len([x for x in stations if x.state ==0]))\n",
    "# Number of state 1 stations\n",
    "print(\"number of work stations:\", \n",
    "      len([x for x in stations if x.state ==1]))\n",
    "# Number of state 2 stations\n",
    "print(\"number of other stations:\", \n",
    "      len([x for x in stations if x.state ==2]))"
   ]
  },
  {
   "cell_type": "code",
   "execution_count": 18,
   "metadata": {},
   "outputs": [
    {
     "name": "stdout",
     "output_type": "stream",
     "text": [
      "number of home charging ports: 15643\n",
      "number of work charging ports: 21342\n",
      "number of other charging ports: 6872\n"
     ]
    }
   ],
   "source": [
    "# Number of parking palaces for state 0 stations\n",
    "print(\"number of home charging ports:\", \n",
    "      sum([x.maximumOccupancy for x in stations if x.state ==0]))\n",
    "# Number of parking palaces for state 1 stations\n",
    "print(\"number of work charging ports:\", \n",
    "      sum([x.maximumOccupancy for x in stations if x.state ==1]))\n",
    "# Number of parking palaces for state 2 stations\n",
    "print(\"number of other charging ports:\", \n",
    "      sum([x.maximumOccupancy for x in stations if x.state ==2]))\n",
    "\n"
   ]
  },
  {
   "cell_type": "code",
   "execution_count": 34,
   "metadata": {},
   "outputs": [
    {
     "data": {
      "text/plain": [
       "['437723098-0',\n",
       " '499626584-0',\n",
       " '99723899-0',\n",
       " '255487813-0',\n",
       " '247520003-0',\n",
       " '102550808-0',\n",
       " '247519987-0',\n",
       " '247520000-0',\n",
       " '488528261-0',\n",
       " '95806873-0',\n",
       " '134643434-0',\n",
       " '102550864-0',\n",
       " '110879911-0',\n",
       " '337225277-0',\n",
       " '96131421-0',\n",
       " '372815448-0',\n",
       " '499816581-0',\n",
       " '129038104-0',\n",
       " '91252421-0',\n",
       " '96065139-0',\n",
       " '286087596-0',\n",
       " '491540628-0',\n",
       " '226093955-0',\n",
       " '88820552-0',\n",
       " '100134382-0',\n",
       " '96131319-0',\n",
       " '127458432-0',\n",
       " '156990436-0',\n",
       " '103538351-0',\n",
       " '125203744-0',\n",
       " '93657162-0',\n",
       " '226093960-0',\n",
       " '94699775-0',\n",
       " '104145838-0',\n",
       " '491543412-0',\n",
       " '110364112-0',\n",
       " '499047030-0',\n",
       " '96821050-0',\n",
       " '137212627-0',\n",
       " '110739345-0',\n",
       " '132433634-0',\n",
       " '547335191-0',\n",
       " '493521486-0',\n",
       " '94699800-0',\n",
       " '110678318-0',\n",
       " '95953424-0',\n",
       " '226093959-0',\n",
       " '453509237-0',\n",
       " '488528260-0',\n",
       " '95953425-0',\n",
       " '492108183-0',\n",
       " '96689281-0',\n",
       " '99192263-0',\n",
       " '99059587-0',\n",
       " '99860906-0',\n",
       " '99059573-0',\n",
       " '132513797-0',\n",
       " '110739397-0',\n",
       " '265010800-0',\n",
       " '85469970-0',\n",
       " '58227811-0',\n",
       " '320313964-0',\n",
       " '104145830-0',\n",
       " '127000953-0',\n",
       " '83094984-0',\n",
       " '247520010-0',\n",
       " '104145835-0',\n",
       " '481353755-0',\n",
       " '96584758-0',\n",
       " '442892689-0',\n",
       " '99511196-0',\n",
       " '103106884-0',\n",
       " '102550864-0',\n",
       " '96028402-0',\n",
       " '109524817-0',\n",
       " '103294522-0',\n",
       " '484352884-0',\n",
       " '132513791-0',\n",
       " '98718777-0',\n",
       " '99156144-0',\n",
       " '96689282-0',\n",
       " '503924070-0',\n",
       " '164088473-0',\n",
       " '285766322-0',\n",
       " '136078012-0',\n",
       " '290212733-0',\n",
       " '247790043-0',\n",
       " '88523417-0',\n",
       " '99728406-0',\n",
       " '490726624-0',\n",
       " '100015374-0',\n",
       " '82230686-0',\n",
       " '227045126-0',\n",
       " '129054428-0',\n",
       " '129038094-0',\n",
       " '127460156-0',\n",
       " '136171746-0',\n",
       " '188792380-0',\n",
       " '496205046-0',\n",
       " '361177833-0']"
      ]
     },
     "execution_count": 34,
     "metadata": {},
     "output_type": "execute_result"
    }
   ],
   "source": [
    "# Create EVs\n",
    "numberCars = 100\n",
    "\n",
    "EVs = [cc1.EV(currentLocation = None, currentState = None) for i in range(numberCars)]\n",
    "# Randomly allocate the initial location of EVs\n",
    "\n",
    "[x.inital_conditions(stations,0) for x in EVs]\n",
    "\n",
    "\n",
    "# print location\n",
    "list(map(lambda x: x.currentLocation, EVs))"
   ]
  },
  {
   "cell_type": "code",
   "execution_count": 10,
   "metadata": {
    "collapsed": true
   },
   "outputs": [],
   "source": [
    "# Weekday\n",
    "# load transition Matrix\n",
    "weekdayChain = ex.readMatrixfiles(\"../TransitionMatrix/*weekday*.txt\")\n",
    "# define the tranistion Matrix\n",
    "weekday = cc1.Markov(weekdayChain)\n",
    "\n",
    "# Weekend\n",
    "# load transition Matrix\n",
    "weekendChain = ex.readMatrixfiles(\"../TransitionMatrix/*weekend*.txt\")\n",
    "# define the tranistion Matrix\n",
    "weekend = cc1.Markov(weekendChain)"
   ]
  },
  {
   "cell_type": "code",
   "execution_count": 11,
   "metadata": {
    "collapsed": true
   },
   "outputs": [],
   "source": [
    "# load the weekday distances\n",
    "weekdayDistances = exd.extractDistances(\"../distanceData/*day*.txt\")\n",
    "\n",
    "# load the weekend distances\n",
    "weekendDistances = exd.extractDistances(\"../distanceData/*end*.txt\")\n"
   ]
  },
  {
   "cell_type": "code",
   "execution_count": 35,
   "metadata": {
    "scrolled": false
   },
   "outputs": [],
   "source": [
    "# create a simulation for one month in a year\n",
    "daysArray = np.arange('2018-01-01', '2018-02-01', dtype='datetime64[D]')\n",
    "lengthOfDaySimulation = 1440 # 1440 timestep a day\n",
    "\n",
    "load = np.zeros(shape = (len(daysArray)*lengthOfDaySimulation, len(stations)))\n",
    "\n",
    "for day in range(len(daysArray)):\n",
    "    \n",
    "    if np.is_busday(daysArray[day]):\n",
    "        chain = weekday\n",
    "        dist = weekdayDistances\n",
    "    else:\n",
    "        chain = weekend\n",
    "        dist = weekendDistances\n",
    "    \n",
    "    # Setup the simulation Model\n",
    "    simulationCase = cc1.Simulation(stations,\n",
    "                            EVs,\n",
    "                            chain,\n",
    "                            dist)\n",
    "\n",
    "    # Estimate the electric load\n",
    "    temp_load = simulationCase.simulate_model(lengthOfDaySimulation)\n",
    "    \n",
    "    initialIdx = day*1440\n",
    "    finalIdx = initialIdx +1440\n",
    "    load[initialIdx:finalIdx, ::] = temp_load"
   ]
  },
  {
   "cell_type": "code",
   "execution_count": 24,
   "metadata": {},
   "outputs": [
    {
     "data": {
      "text/plain": [
       "(2880, 3062)"
      ]
     },
     "execution_count": 24,
     "metadata": {},
     "output_type": "execute_result"
    }
   ],
   "source": [
    "load = np.loadtxt(\"load.txt\", ndmin = 2)\n",
    "np.asarray(load).shape"
   ]
  },
  {
   "cell_type": "code",
   "execution_count": 25,
   "metadata": {},
   "outputs": [
    {
     "data": {
      "text/plain": [
       "(7200, 1350)"
      ]
     },
     "execution_count": 25,
     "metadata": {},
     "output_type": "execute_result"
    }
   ],
   "source": [
    "# find the load of the residential load\n",
    "homeLoad = SP.extract_stateLoad(load, 0, stations)\n",
    "homeLoad.shape"
   ]
  },
  {
   "cell_type": "code",
   "execution_count": 19,
   "metadata": {},
   "outputs": [
    {
     "data": {
      "text/plain": [
       "(7200, 1718)"
      ]
     },
     "execution_count": 19,
     "metadata": {},
     "output_type": "execute_result"
    }
   ],
   "source": [
    "# collect the load of the stations\n",
    "final_results = SP.collect_stations_results(ID, load, stations)        \n",
    "final_results.shape"
   ]
  },
  {
   "cell_type": "code",
   "execution_count": 20,
   "metadata": {
    "collapsed": true
   },
   "outputs": [],
   "source": [
    "np.savetxt(\"finalResults.txt\", final_results)"
   ]
  },
  {
   "cell_type": "code",
   "execution_count": 36,
   "metadata": {},
   "outputs": [],
   "source": [
    "fig = plt.figure(figsize = (50,50))\n",
    "minutes = np.arange('2018-01-01', '2018-02-01', dtype='datetime64[m]').astype(datetime.datetime)\n",
    "plt.plot(minutes, np.sum(load,1))\n",
    "plt.xticks(rotation='vertical')\n",
    "plt.rcParams.update({'font.size': 25})\n",
    "fig.savefig(\"aggregateLoad.pdf\")"
   ]
  },
  {
   "cell_type": "code",
   "execution_count": 17,
   "metadata": {},
   "outputs": [
    {
     "data": {
      "text/plain": [
       "31.286735999999998"
      ]
     },
     "execution_count": 17,
     "metadata": {},
     "output_type": "execute_result"
    }
   ],
   "source": [
    "drvingDist = list(map(lambda x: x.distance/5, EVs))\n",
    "d = np.asarray(drvingDist)\n",
    "np.mean(d)"
   ]
  },
  {
   "cell_type": "code",
   "execution_count": 13,
   "metadata": {},
   "outputs": [
    {
     "data": {
      "text/plain": [
       "<module 'cars' from '/Users/mahmoudshepero/Documents/PhD/Models/EVSpatialModelPython/PythonCode/cars.py'>"
      ]
     },
     "execution_count": 13,
     "metadata": {},
     "output_type": "execute_result"
    }
   ],
   "source": [
    "import imp\n",
    "imp"
   ]
  },
  {
   "cell_type": "code",
   "execution_count": null,
   "metadata": {
    "collapsed": true
   },
   "outputs": [],
   "source": []
  }
 ],
 "metadata": {
  "kernelspec": {
   "display_name": "Python 3",
   "language": "python",
   "name": "python3"
  },
  "language_info": {
   "codemirror_mode": {
    "name": "ipython",
    "version": 3
   },
   "file_extension": ".py",
   "mimetype": "text/x-python",
   "name": "python",
   "nbconvert_exporter": "python",
   "pygments_lexer": "ipython3",
   "version": "3.6.3"
  }
 },
 "nbformat": 4,
 "nbformat_minor": 2
}
